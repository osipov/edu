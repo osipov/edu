{
  "nbformat": 4,
  "nbformat_minor": 0,
  "metadata": {
    "accelerator": "GPU",
    "colab": {
      "name": "Demo_Keras_GCS_Tensorboard.ipynb",
      "provenance": [],
      "collapsed_sections": [],
      "machine_shape": "hm"
    },
    "kernelspec": {
      "display_name": "Python 3",
      "language": "python",
      "name": "python3"
    },
    "language_info": {
      "codemirror_mode": {
        "name": "ipython",
        "version": 3
      },
      "file_extension": ".py",
      "mimetype": "text/x-python",
      "name": "python",
      "nbconvert_exporter": "python",
      "pygments_lexer": "ipython3",
      "version": "3.7.6"
    },
    "toc": {
      "base_numbering": 1,
      "nav_menu": {},
      "number_sections": true,
      "sideBar": true,
      "skip_h1_title": false,
      "title_cell": "Table of Contents",
      "title_sidebar": "Contents",
      "toc_cell": false,
      "toc_position": {},
      "toc_section_display": true,
      "toc_window_display": true
    }
  },
  "cells": [
    {
      "cell_type": "markdown",
      "metadata": {
        "id": "gDF0jjCqiiAF"
      },
      "source": [
        "<a href=\"https://colab.research.google.com/github/osipov/edu/blob/master/tf0/Demo_Keras_GCS_Tensorboard.ipynb\" target=\"_blank\"><img src=\"https://colab.research.google.com/assets/colab-badge.svg\"/></a>"
      ]
    },
    {
      "cell_type": "markdown",
      "metadata": {
        "id": "xw2PP1XGyWCv"
      },
      "source": [
        "## **TODO:** Set the value of `BUCKET` below to the BUCKET from your learning materials"
      ]
    },
    {
      "cell_type": "code",
      "metadata": {
        "id": "WRmku01oyS_a"
      },
      "source": [
        "BUCKET = None\n",
        "import os\n",
        "assert BUCKET and (type(BUCKET) is str), \"Be sure to initialize BUCKET using the value from your learning materials\"\n",
        "os.environ['BUCKET'] = BUCKET"
      ],
      "execution_count": null,
      "outputs": []
    },
    {
      "cell_type": "markdown",
      "metadata": {
        "id": "v-mCHzlwyx9m"
      },
      "source": [
        "### Authenticate using your Google Cloud account so you can access the dataset on Google Cloud Storage"
      ]
    },
    {
      "cell_type": "code",
      "metadata": {
        "id": "aFVNNJMxV-na"
      },
      "source": [
        "from google.colab import auth\n",
        "auth.authenticate_user()"
      ],
      "execution_count": null,
      "outputs": []
    },
    {
      "cell_type": "markdown",
      "metadata": {
        "id": "190t3yL6y7QS"
      },
      "source": [
        "### Start with your usual imports"
      ]
    },
    {
      "cell_type": "code",
      "metadata": {
        "ExecuteTime": {
          "end_time": "2021-02-23T12:01:19.415400Z",
          "start_time": "2021-02-23T12:01:17.583971Z"
        },
        "id": "3oKWxWlmun66"
      },
      "source": [
        "import numpy as np\n",
        "import pandas as pd\n",
        "import tensorflow as tf\n",
        "import tensorflow.data as tfd\n",
        "\n",
        "from tensorflow.data import Dataset\n",
        "\n",
        "from tensorflow.keras import Sequential\n",
        "from tensorflow.keras.layers import Dense\n",
        "from tensorflow.keras.optimizers import Adam"
      ],
      "execution_count": null,
      "outputs": []
    },
    {
      "cell_type": "markdown",
      "metadata": {
        "id": "5R0P1sBeAX15"
      },
      "source": [
        "## Define 2 Python lists: 1st for the feature column names; 2nd for the target column name"
      ]
    },
    {
      "cell_type": "code",
      "metadata": {
        "ExecuteTime": {
          "end_time": "2021-02-23T12:02:07.834557Z",
          "start_time": "2021-02-23T12:02:07.831903Z"
        },
        "id": "s62k_A-Ga-0x"
      },
      "source": [
        "FEATURES = ['origin_block_latitude','origin_block_longitude','destination_block_latitude','destination_block_longitude']\n",
        "TARGET = ['fareamount']"
      ],
      "execution_count": null,
      "outputs": []
    },
    {
      "cell_type": "markdown",
      "metadata": {
        "id": "F--QGhzbzE4V"
      },
      "source": [
        "## Use `make_csv_dataset` to load a CSV dataset from GCS"
      ]
    },
    {
      "cell_type": "code",
      "metadata": {
        "id": "tSNybcAckGod"
      },
      "source": [
        "BATCH_SIZE = 2 ** 18\n",
        "\n",
        "def glob_to_ds(glob, num_epochs = 1, batch_size = 1):\n",
        "  def decode(x):\n",
        "    yX = tf.stack(list(x.values()), axis = 1)\n",
        "    return yX[:, 1:], yX[:, 0]\n",
        "  \n",
        "  ds = (tf.data.experimental\n",
        "        .make_csv_dataset(glob, \n",
        "                          num_epochs = num_epochs,\n",
        "                          batch_size = batch_size)\n",
        "        .map(decode))\n",
        "  \n",
        "  return ds\n",
        "\n",
        "\n",
        "[train_ds, \n",
        " valid_ds, \n",
        " test_ds] = [glob_to_ds(glob, \n",
        "                        batch_size = BATCH_SIZE) for glob in \\\n",
        "                        [f\"gs://{BUCKET}/train/part-*.csv\",\n",
        "                         f\"gs://{BUCKET}/valid/part-*.csv\",\n",
        "                         f\"gs://{BUCKET}/test/part-*.csv\"]]\n",
        "\n",
        "train_ds, valid_ds, test_ds"
      ],
      "execution_count": null,
      "outputs": []
    },
    {
      "cell_type": "markdown",
      "metadata": {
        "id": "IA-3bXKABCW_"
      },
      "source": [
        "## Create a model using `keras.Dense`"
      ]
    },
    {
      "cell_type": "code",
      "metadata": {
        "ExecuteTime": {
          "end_time": "2021-02-23T12:02:24.863459Z",
          "start_time": "2021-02-23T12:02:24.843786Z"
        },
        "id": "6vYGtKDeajQk"
      },
      "source": [
        "model = Sequential()\n",
        "model.add(Dense(units=13, input_shape=[len(FEATURES)], activation='relu'))\n",
        "model.add(Dense(units=13, activation='relu'))\n",
        "model.add(Dense(units=13, activation='relu'))\n",
        "model.add(Dense(units=1, activation='linear'))"
      ],
      "execution_count": null,
      "outputs": []
    },
    {
      "cell_type": "code",
      "metadata": {
        "ExecuteTime": {
          "end_time": "2021-02-23T12:02:27.257559Z",
          "start_time": "2021-02-23T12:02:27.252057Z"
        },
        "id": "8zC1H4EviRss"
      },
      "source": [
        "model.summary()"
      ],
      "execution_count": null,
      "outputs": []
    },
    {
      "cell_type": "markdown",
      "metadata": {
        "id": "u9UvsR9gBGXj"
      },
      "source": [
        "## Create an instance of the `Adam` optimizer for the model"
      ]
    },
    {
      "cell_type": "code",
      "metadata": {
        "ExecuteTime": {
          "end_time": "2021-02-23T12:02:31.233110Z",
          "start_time": "2021-02-23T12:02:31.230098Z"
        },
        "id": "vPFF7EtFBKes"
      },
      "source": [
        "LEARNING_RATE = 0.003\n",
        "optimizer = Adam( learning_rate = LEARNING_RATE )"
      ],
      "execution_count": null,
      "outputs": []
    },
    {
      "cell_type": "markdown",
      "metadata": {
        "id": "u0InQhVx2wa1"
      },
      "source": [
        "## Train using Keras `compile` and `fit` over the batches returned by your `BatchDataset` instance\n",
        "* you can also use `tf.keras.metrics` to report on performance"
      ]
    },
    {
      "cell_type": "code",
      "metadata": {
        "id": "4SF38gAz2xS_"
      },
      "source": [
        "def train(epochs):\n",
        "  tb_callback = tf.keras.callbacks.TensorBoard(log_dir=\"./logs\")\n",
        "  mc_callback = tf.keras.callbacks.ModelCheckpoint(\n",
        "      filepath=\"model-epoch-{epoch:02d}-val-mse-{val_loss:.4f}\",\n",
        "      save_best_only=True, \n",
        "      monitor=\"val_loss\",\n",
        "      verbose=1,\n",
        "  )\n",
        "\n",
        "  model.compile(optimizer = optimizer, \n",
        "                loss = tf.keras.losses.MSE,  \n",
        "                metrics = [tf.keras.metrics.RootMeanSquaredError(), \n",
        "                        tf.keras.metrics.MeanAbsoluteError()]) \n",
        "\n",
        "\n",
        "  training = model.fit(train_ds, \n",
        "                      validation_data = valid_ds,                     \n",
        "                      epochs = epochs, \n",
        "                      callbacks=[tb_callback, mc_callback],\n",
        "                      verbose = 1,)\n",
        "\n",
        "  {key: training.history[key] for key in training.history.keys()}\n",
        "\n",
        "train(epochs = 2)"
      ],
      "execution_count": null,
      "outputs": []
    },
    {
      "cell_type": "markdown",
      "metadata": {
        "id": "FVlAQWusfAEG"
      },
      "source": [
        "## Load TensorBoard and render the training/validation logs"
      ]
    },
    {
      "cell_type": "code",
      "metadata": {
        "id": "0Z92JN4Q6tw7"
      },
      "source": [
        "%load_ext tensorboard\n",
        "%tensorboard --logdir logs"
      ],
      "execution_count": null,
      "outputs": []
    },
    {
      "cell_type": "code",
      "metadata": {
        "id": "Q5GM2avQyCux"
      },
      "source": [
        "train(epochs = 100)"
      ],
      "execution_count": null,
      "outputs": []
    },
    {
      "cell_type": "markdown",
      "metadata": {
        "id": "wIruXiw2fLmp"
      },
      "source": [
        "## Load the best performing model as a new instance of a Keras model"
      ]
    },
    {
      "cell_type": "code",
      "metadata": {
        "id": "0QFYV30WBnbf"
      },
      "source": [
        "models = !ls -1 -d -t $(find model* -maxdepth 0 -type d) | head -n 1\n",
        "model = models[0] if len(models) > 0 else None\n",
        "print(model)\n",
        "best_model = tf.keras.models.load_model(model)\n",
        "best_model"
      ],
      "execution_count": null,
      "outputs": []
    },
    {
      "cell_type": "markdown",
      "metadata": {
        "id": "spd4wA_PfTyJ"
      },
      "source": [
        "## Test the model performance"
      ]
    },
    {
      "cell_type": "code",
      "metadata": {
        "id": "o2K1cqkIFizq"
      },
      "source": [
        "results = best_model.evaluate(test_ds)\n",
        "\n",
        "predictions = best_model.predict(test_ds)\n",
        "predictions"
      ],
      "execution_count": null,
      "outputs": []
    },
    {
      "cell_type": "markdown",
      "metadata": {
        "id": "IlrLCc3SCmuk"
      },
      "source": [
        "Copyright 2021 CounterFactual.AI LLC. Licensed under the Apache License, Version 2.0 (the \"License\"); you may not use this file except in compliance with the License. You may obtain a copy of the License at http://www.apache.org/licenses/LICENSE-2.0 Unless required by applicable law or agreed to in writing, software distributed under the License is distributed on an \"AS IS\" BASIS, WITHOUT WARRANTIES OR CONDITIONS OF ANY KIND, either express or implied. See the License for the specific language governing permissions and limitations under the License."
      ]
    }
  ]
}