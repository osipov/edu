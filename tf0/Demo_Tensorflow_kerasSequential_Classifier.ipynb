{
  "nbformat": 4,
  "nbformat_minor": 0,
  "metadata": {
    "accelerator": "GPU",
    "colab": {
      "name": "Demo_Tensorflow_kerasSequential_Classifier.ipynb",
      "provenance": [],
      "collapsed_sections": []
    },
    "kernelspec": {
      "display_name": "Python 3",
      "language": "python",
      "name": "python3"
    },
    "language_info": {
      "codemirror_mode": {
        "name": "ipython",
        "version": 3
      },
      "file_extension": ".py",
      "mimetype": "text/x-python",
      "name": "python",
      "nbconvert_exporter": "python",
      "pygments_lexer": "ipython3",
      "version": "3.7.3"
    },
    "toc": {
      "base_numbering": 1,
      "nav_menu": {},
      "number_sections": true,
      "sideBar": true,
      "skip_h1_title": false,
      "title_cell": "Table of Contents",
      "title_sidebar": "Contents",
      "toc_cell": false,
      "toc_position": {},
      "toc_section_display": true,
      "toc_window_display": false
    }
  },
  "cells": [
    {
      "cell_type": "markdown",
      "metadata": {
        "id": "DPARLBi-hg2S"
      },
      "source": [
        "<a href=\"https://colab.research.google.com/github/osipov/edu/blob/master/tf0/Demo_Tensorflow_kerasSequential_Classifier.ipynb\" target=\"_blank\"><img src=\"https://colab.research.google.com/assets/colab-badge.svg\"/></a>"
      ]
    },
    {
      "cell_type": "code",
      "metadata": {
        "ExecuteTime": {
          "end_time": "2021-02-23T18:53:45.603007Z",
          "start_time": "2021-02-23T18:53:43.707474Z"
        },
        "id": "Xc1d4ZuFCmgW"
      },
      "source": [
        "import numpy as np\n",
        "import matplotlib.pyplot as plt\n",
        "%matplotlib inline\n",
        "\n",
        "# building blocks of our network\n",
        "import tensorflow as tf\n",
        "from tensorflow.keras import Sequential\n",
        "from tensorflow.keras.layers import Dense\n",
        "from tensorflow.keras.optimizers import Adam\n",
        "\n",
        "tf.random.set_seed(42);"
      ],
      "execution_count": null,
      "outputs": []
    },
    {
      "cell_type": "code",
      "metadata": {
        "ExecuteTime": {
          "end_time": "2021-02-23T18:53:46.457864Z",
          "start_time": "2021-02-23T18:53:45.604791Z"
        },
        "id": "f8kaVXfT3Ypb"
      },
      "source": [
        "NUM = 100\n",
        "\n",
        "#X spam data points \n",
        "\n",
        "#lower left\n",
        "Xs1 = tf.random.normal((NUM // 2, 2), mean=0, stddev=3) - 5\n",
        "#upper right\n",
        "Xs2 = tf.random.normal((NUM // 2, 2), mean=0, stddev=3) + 5\n",
        "\n",
        "#100 spam data points\n",
        "Xs = tf.concat([Xs1, Xs2], axis=0)\n",
        "\n",
        "\n",
        "#X not spam data points\n",
        "#upper left\n",
        "Xns1 = tf.Variable(tf.random.normal((NUM // 2, 2), mean=0, stddev=3) + 5)\n",
        "Xns1[:, 1].assign(Xns1[:, 1] - 10)\n",
        "\n",
        "#lower right\n",
        "Xns2 = tf.Variable(tf.random.normal((NUM // 2, 2), mean=0, stddev=3) - 5)\n",
        "Xns2[:, 1].assign(Xns2[:, 1] + 10)\n",
        "\n",
        "#100 not spam data points\n",
        "Xns = tf.concat([Xns1, Xns2], axis=0)\n",
        "\n",
        "#200 data points, 100 spam, 100 not spam\n",
        "X = tf.concat([Xs, Xns], axis=0)\n",
        "plt.figure(figsize = (16, 9))\n",
        "\n",
        "plt.scatter(X[:NUM, 0], X[:NUM, 1], color = 'orange');\n",
        "plt.scatter(X[NUM:, 0], X[NUM:, 1], color = 'blue');\n",
        "\n",
        "plt.xlim([-10, 10])\n",
        "plt.ylim([-10, 10]);"
      ],
      "execution_count": null,
      "outputs": []
    },
    {
      "cell_type": "code",
      "metadata": {
        "ExecuteTime": {
          "end_time": "2021-02-23T18:53:46.462718Z",
          "start_time": "2021-02-23T18:53:46.459508Z"
        },
        "id": "fmhLGL7bbAv7"
      },
      "source": [
        "X.shape"
      ],
      "execution_count": null,
      "outputs": []
    },
    {
      "cell_type": "code",
      "metadata": {
        "ExecuteTime": {
          "end_time": "2021-02-23T18:53:46.469702Z",
          "start_time": "2021-02-23T18:53:46.464220Z"
        },
        "id": "zsXnV1NYPYAJ"
      },
      "source": [
        "# #spam = 1, not spam = 0\n",
        "y = tf.concat( [tf.ones(NUM, dtype=tf.int64), tf.zeros(NUM, dtype=tf.int64)], axis=0 )\n",
        "y"
      ],
      "execution_count": null,
      "outputs": []
    },
    {
      "cell_type": "code",
      "metadata": {
        "ExecuteTime": {
          "end_time": "2021-02-23T18:53:46.506165Z",
          "start_time": "2021-02-23T18:53:46.471314Z"
        },
        "id": "TjcW4Ww6OoFR"
      },
      "source": [
        "model = Sequential()\n",
        "model.add(Dense(units = 2, input_shape=(2,), activation='relu'))\n",
        "model.add(Dense(units = 3, activation='relu'))\n",
        "model.add(Dense(units = 2, activation='softmax'))\n",
        "\n",
        "def forward(X, training=True):\n",
        "    # effectively log softmax\n",
        "    return tf.math.log(model(X, training))\n",
        "\n",
        "def loss(y_pred, y):\n",
        "    '''\n",
        "    Negative log likelihood (unweighted)\n",
        "    '''\n",
        "    return -tf.math.reduce_mean(tf.one_hot(y, depth=2) * y_pred, axis = None)\n",
        "\n",
        "def metric(y_pred, y):\n",
        "    return (1. / len(y)) * tf.math.count_nonzero(tf.equal(tf.argmax(y_pred, axis=1),y), axis=0, dtype=tf.float32)"
      ],
      "execution_count": null,
      "outputs": []
    },
    {
      "cell_type": "code",
      "metadata": {
        "ExecuteTime": {
          "end_time": "2021-02-23T18:53:46.535356Z",
          "start_time": "2021-02-23T18:53:46.507438Z"
        },
        "id": "33jwRyc8bAv8"
      },
      "source": [
        "LEARNING_RATE = 0.002\n",
        "optimizer = Adam(learning_rate = LEARNING_RATE)\n",
        "\n",
        "y_pred = forward(X)\n",
        "loss(y_pred, y), metric(y_pred, y)"
      ],
      "execution_count": null,
      "outputs": []
    },
    {
      "cell_type": "code",
      "metadata": {
        "ExecuteTime": {
          "end_time": "2021-02-23T18:53:46.541500Z",
          "start_time": "2021-02-23T18:53:46.536620Z"
        },
        "id": "r88N3PUobAv9"
      },
      "source": [
        "model.summary()"
      ],
      "execution_count": null,
      "outputs": []
    },
    {
      "cell_type": "code",
      "metadata": {
        "ExecuteTime": {
          "end_time": "2021-02-23T18:54:27.559252Z",
          "start_time": "2021-02-23T18:53:46.543391Z"
        },
        "id": "36YBZELoYITn"
      },
      "source": [
        "EPOCHS=1_000\n",
        "for epoch in range(EPOCHS):\n",
        "    with tf.GradientTape() as tape:\n",
        "        # forward pass\n",
        "        y_pred = forward(X, training=True)\n",
        "\n",
        "        # compute loss\n",
        "        last_loss = loss(y_pred, y)\n",
        "\n",
        "    # back propagation\n",
        "    grads = tape.gradient(last_loss, model.trainable_weights)\n",
        "    optimizer.apply_gradients(zip(grads, model.trainable_weights))\n",
        "\n",
        "    # monitor performance\n",
        "    loss_val, accuracy = float(last_loss), metric(y_pred,y).numpy()\n",
        "    if (epoch % 100 == 0):\n",
        "        print(f'epoch {epoch+1:2d}:  loss={loss_val:7.4f}, Accuracy={accuracy:7.4f}')"
      ],
      "execution_count": null,
      "outputs": []
    },
    {
      "cell_type": "code",
      "metadata": {
        "ExecuteTime": {
          "end_time": "2021-02-23T18:54:27.706764Z",
          "start_time": "2021-02-23T18:54:27.560802Z"
        },
        "id": "fVX4sukThQcg"
      },
      "source": [
        "x_min, x_max, y_min, y_max, step = -15., 15, -15., 15., 0.5\n",
        "\n",
        "xx, yy = tf.meshgrid(tf.range(x_min, x_max, step),\n",
        "                    tf.range(y_min, y_max, step))\n",
        "\n",
        "X_test = tf.concat([tf.reshape(xx, [tf.size(xx), 1]), \n",
        "                tf.reshape(yy, [tf.size(yy), 1])], \n",
        "               axis = 1)\n",
        "y_test = tf.argmax(forward(X_test), axis=1).numpy()\n",
        "\n",
        "Z = -1 * tf.reshape(y_test, xx.shape)\n",
        "\n",
        "fig = plt.figure()\n",
        "plt.axis(\"equal\")\n",
        "plt.contourf(xx, yy, Z, cmap=plt.cm.Spectral, alpha=0.4);\n",
        "plt.scatter(X[:NUM, 0], X[:NUM, 1], color = 'orange');\n",
        "plt.scatter(X[NUM:, 0], X[NUM:, 1]);"
      ],
      "execution_count": null,
      "outputs": []
    },
    {
      "cell_type": "markdown",
      "metadata": {
        "id": "27yuQREWlj4i"
      },
      "source": [
        "Copyright 2021 CounterFactual.AI LLC. Licensed under the Apache License, Version 2.0 (the \"License\"); you may not use this file except in compliance with the License. You may obtain a copy of the License at http://www.apache.org/licenses/LICENSE-2.0 Unless required by applicable law or agreed to in writing, software distributed under the License is distributed on an \"AS IS\" BASIS, WITHOUT WARRANTIES OR CONDITIONS OF ANY KIND, either express or implied. See the License for the specific language governing permissions and limitations under the License."
      ]
    }
  ]
}