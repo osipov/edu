{
  "nbformat": 4,
  "nbformat_minor": 0,
  "metadata": {
    "accelerator": "GPU",
    "colab": {
      "name": "Exercise_Tensorflow_Tensors.ipynb",
      "provenance": [],
      "collapsed_sections": []
    },
    "kernelspec": {
      "display_name": "Python 3",
      "language": "python",
      "name": "python3"
    },
    "language_info": {
      "codemirror_mode": {
        "name": "ipython",
        "version": 3
      },
      "file_extension": ".py",
      "mimetype": "text/x-python",
      "name": "python",
      "nbconvert_exporter": "python",
      "pygments_lexer": "ipython3",
      "version": "3.7.6"
    },
    "toc": {
      "base_numbering": 1,
      "nav_menu": {},
      "number_sections": true,
      "sideBar": true,
      "skip_h1_title": false,
      "title_cell": "Table of Contents",
      "title_sidebar": "Contents",
      "toc_cell": false,
      "toc_position": {},
      "toc_section_display": true,
      "toc_window_display": false
    },
    "varInspector": {
      "cols": {
        "lenName": 16,
        "lenType": 16,
        "lenVar": 40
      },
      "kernels_config": {
        "python": {
          "delete_cmd_postfix": "",
          "delete_cmd_prefix": "del ",
          "library": "var_list.py",
          "varRefreshCmd": "print(var_dic_list())"
        },
        "r": {
          "delete_cmd_postfix": ") ",
          "delete_cmd_prefix": "rm(",
          "library": "var_list.r",
          "varRefreshCmd": "cat(var_dic_list()) "
        }
      },
      "types_to_exclude": [
        "module",
        "function",
        "builtin_function_or_method",
        "instance",
        "_Feature"
      ],
      "window_display": false
    }
  },
  "cells": [
    {
      "cell_type": "markdown",
      "metadata": {
        "id": "A-3dp15kRy4N"
      },
      "source": [
        "<a href=\"https://colab.research.google.com/github/osipov/edu/blob/master/tf0/Exercise_Tensorflow_Tensors.ipynb\" target=\"_blank\"><img src=\"https://colab.research.google.com/assets/colab-badge.svg\"/></a>"
      ]
    },
    {
      "cell_type": "markdown",
      "metadata": {
        "id": "CmuseiqGzCWr"
      },
      "source": [
        "## Import the __`tensorflow`__ package"
      ]
    },
    {
      "cell_type": "code",
      "metadata": {
        "ExecuteTime": {
          "end_time": "2021-02-22T14:19:47.602840Z",
          "start_time": "2021-02-22T14:19:45.862083Z"
        },
        "id": "eU6P6sF8zCWs"
      },
      "source": [
        "import tensorflow as tf\n",
        "tf.random.set_seed(0);"
      ],
      "execution_count": null,
      "outputs": []
    },
    {
      "cell_type": "markdown",
      "metadata": {
        "id": "f6Snb3-nzCWw"
      },
      "source": [
        "## Create a vector of ten zeros"
      ]
    },
    {
      "cell_type": "code",
      "metadata": {
        "ExecuteTime": {
          "end_time": "2021-02-22T14:19:48.319096Z",
          "start_time": "2021-02-22T14:19:47.604523Z"
        },
        "id": "cqTEF0MbzCWx"
      },
      "source": [
        ""
      ],
      "execution_count": null,
      "outputs": []
    },
    {
      "cell_type": "markdown",
      "metadata": {
        "id": "I---dV8dzCW4"
      },
      "source": [
        "## Create a vector of size ten with nine zeros and a 1 in the fifth position"
      ]
    },
    {
      "cell_type": "code",
      "metadata": {
        "ExecuteTime": {
          "end_time": "2021-02-22T14:19:48.327731Z",
          "start_time": "2021-02-22T14:19:48.320862Z"
        },
        "id": "ADRsT7jazCW4"
      },
      "source": [
        ""
      ],
      "execution_count": null,
      "outputs": []
    },
    {
      "cell_type": "markdown",
      "metadata": {
        "id": "axtpynf4zCW7"
      },
      "source": [
        "## Create a vector with values ranging from 10 to 49"
      ]
    },
    {
      "cell_type": "code",
      "metadata": {
        "ExecuteTime": {
          "end_time": "2021-02-22T14:19:48.333260Z",
          "start_time": "2021-02-22T14:19:48.329236Z"
        },
        "id": "oRlwKd1uzCW8"
      },
      "source": [
        ""
      ],
      "execution_count": null,
      "outputs": []
    },
    {
      "cell_type": "markdown",
      "metadata": {
        "id": "iLov9rqUzCXB"
      },
      "source": [
        "## Reverse the previous vector"
      ]
    },
    {
      "cell_type": "code",
      "metadata": {
        "ExecuteTime": {
          "end_time": "2021-02-22T14:19:48.339125Z",
          "start_time": "2021-02-22T14:19:48.334619Z"
        },
        "id": "7tCYJBCMzCXC"
      },
      "source": [
        ""
      ],
      "execution_count": null,
      "outputs": []
    },
    {
      "cell_type": "markdown",
      "metadata": {
        "id": "pGbZs19bzCXF"
      },
      "source": [
        "## Create a 3x3 matrix with values ranging from 0 to 8"
      ]
    },
    {
      "cell_type": "code",
      "metadata": {
        "ExecuteTime": {
          "end_time": "2021-02-22T14:19:48.344899Z",
          "start_time": "2021-02-22T14:19:48.340460Z"
        },
        "id": "dAj7IEFUzCXF"
      },
      "source": [
        ""
      ],
      "execution_count": null,
      "outputs": []
    },
    {
      "cell_type": "markdown",
      "metadata": {
        "id": "plNf0tAFzCXI"
      },
      "source": [
        "## Find the indices of the non-zero elements of the following array:"
      ]
    },
    {
      "cell_type": "code",
      "metadata": {
        "ExecuteTime": {
          "end_time": "2021-02-22T14:19:48.350316Z",
          "start_time": "2021-02-22T14:19:48.346209Z"
        },
        "id": "g0bp5VuNzCXJ"
      },
      "source": [
        "v = tf.constant([1, 2, 0, 0, 4, 0]) # Given\n",
        "v"
      ],
      "execution_count": null,
      "outputs": []
    },
    {
      "cell_type": "code",
      "metadata": {
        "ExecuteTime": {
          "end_time": "2021-02-22T14:19:48.356218Z",
          "start_time": "2021-02-22T14:19:48.352414Z"
        },
        "id": "CMG3ABDuzCXL"
      },
      "source": [
        ""
      ],
      "execution_count": null,
      "outputs": []
    },
    {
      "cell_type": "markdown",
      "metadata": {
        "id": "r0NwWieZzCXO"
      },
      "source": [
        "## Create a 5x5 identity matrix"
      ]
    },
    {
      "cell_type": "code",
      "metadata": {
        "ExecuteTime": {
          "end_time": "2021-02-22T14:19:48.374556Z",
          "start_time": "2021-02-22T14:19:48.370231Z"
        },
        "id": "wIS7MHEEzCXO"
      },
      "source": [
        ""
      ],
      "execution_count": null,
      "outputs": []
    },
    {
      "cell_type": "markdown",
      "metadata": {
        "id": "6djlGYnOzCXR"
      },
      "source": [
        "## Create a 3x3x3 array with random values"
      ]
    },
    {
      "cell_type": "code",
      "metadata": {
        "ExecuteTime": {
          "end_time": "2021-02-22T14:19:48.380258Z",
          "start_time": "2021-02-22T14:19:48.376047Z"
        },
        "id": "7WkWYz7wzCXR"
      },
      "source": [
        ""
      ],
      "execution_count": null,
      "outputs": []
    },
    {
      "cell_type": "markdown",
      "metadata": {
        "id": "HiVyKZCuzCXU"
      },
      "source": [
        "## Find the minimum and maximum values generated in the previous step"
      ]
    },
    {
      "cell_type": "code",
      "metadata": {
        "ExecuteTime": {
          "end_time": "2021-02-22T14:19:48.385808Z",
          "start_time": "2021-02-22T14:19:48.381620Z"
        },
        "id": "COJHmxatzCXU"
      },
      "source": [
        ""
      ],
      "execution_count": null,
      "outputs": []
    },
    {
      "cell_type": "markdown",
      "metadata": {
        "id": "AvXiXNOBzCXW"
      },
      "source": [
        "## Create a vector with 30 random values and find its mean"
      ]
    },
    {
      "cell_type": "code",
      "metadata": {
        "ExecuteTime": {
          "end_time": "2021-02-22T14:19:48.391587Z",
          "start_time": "2021-02-22T14:19:48.387386Z"
        },
        "id": "xzDFiTv3zCXX"
      },
      "source": [
        ""
      ],
      "execution_count": null,
      "outputs": []
    },
    {
      "cell_type": "markdown",
      "metadata": {
        "id": "CghaD0RFzCXZ"
      },
      "source": [
        "## Create a 5x5 2d array with 1s around the edges and 0s in the middle"
      ]
    },
    {
      "cell_type": "code",
      "metadata": {
        "ExecuteTime": {
          "end_time": "2021-02-22T14:19:48.399626Z",
          "start_time": "2021-02-22T14:19:48.393116Z"
        },
        "id": "GZC49QjdzCXa"
      },
      "source": [
        ""
      ],
      "execution_count": null,
      "outputs": []
    },
    {
      "cell_type": "markdown",
      "metadata": {
        "id": "Jpcx99OgzCXd"
      },
      "source": [
        "## Try to predict the output of each of the following cells before running them"
      ]
    },
    {
      "cell_type": "code",
      "metadata": {
        "ExecuteTime": {
          "end_time": "2021-02-22T14:19:48.404161Z",
          "start_time": "2021-02-22T14:19:48.400891Z"
        },
        "id": "ZkZJgk5YzCXe"
      },
      "source": [
        "0 * float('nan')"
      ],
      "execution_count": null,
      "outputs": []
    },
    {
      "cell_type": "code",
      "metadata": {
        "ExecuteTime": {
          "end_time": "2021-02-22T14:19:48.409265Z",
          "start_time": "2021-02-22T14:19:48.405791Z"
        },
        "id": "dq81y-y8zCXh"
      },
      "source": [
        "float('nan') == float('nan')"
      ],
      "execution_count": null,
      "outputs": []
    },
    {
      "cell_type": "code",
      "metadata": {
        "ExecuteTime": {
          "end_time": "2021-02-22T14:19:48.414118Z",
          "start_time": "2021-02-22T14:19:48.410595Z"
        },
        "id": "b2CwjiTbzCXk"
      },
      "source": [
        "float('inf') > float('nan')"
      ],
      "execution_count": null,
      "outputs": []
    },
    {
      "cell_type": "code",
      "metadata": {
        "ExecuteTime": {
          "end_time": "2021-02-22T14:19:48.418949Z",
          "start_time": "2021-02-22T14:19:48.415511Z"
        },
        "id": "49Tq53HRzCXn"
      },
      "source": [
        "float('nan') - float('nan')"
      ],
      "execution_count": null,
      "outputs": []
    },
    {
      "cell_type": "code",
      "metadata": {
        "ExecuteTime": {
          "end_time": "2021-02-22T14:19:48.423739Z",
          "start_time": "2021-02-22T14:19:48.420377Z"
        },
        "id": "1diW27rLzCXp"
      },
      "source": [
        "0.3 == 3 * 0.1"
      ],
      "execution_count": null,
      "outputs": []
    },
    {
      "cell_type": "code",
      "metadata": {
        "ExecuteTime": {
          "end_time": "2021-02-22T14:20:06.341041Z",
          "start_time": "2021-02-22T14:20:06.313292Z"
        },
        "id": "EAdhSCJbzCXr"
      },
      "source": [
        "tf.constant([0]) // tf.constant([0])"
      ],
      "execution_count": null,
      "outputs": []
    },
    {
      "cell_type": "code",
      "metadata": {
        "ExecuteTime": {
          "end_time": "2021-02-22T14:20:06.343114Z",
          "start_time": "2021-02-22T14:20:06.301Z"
        },
        "id": "T8dkSa1dzCXt"
      },
      "source": [
        "tf.constant([0.0]) // tf.constant([0.0])"
      ],
      "execution_count": null,
      "outputs": []
    },
    {
      "cell_type": "code",
      "metadata": {
        "ExecuteTime": {
          "end_time": "2021-02-22T14:20:06.344035Z",
          "start_time": "2021-02-22T14:20:06.302Z"
        },
        "id": "6-vnyvnY3O_-"
      },
      "source": [
        "nan_scalar = tf.constant([float('nan')])\n",
        "\n",
        "tf.math.is_nan(nan_scalar)"
      ],
      "execution_count": null,
      "outputs": []
    },
    {
      "cell_type": "code",
      "metadata": {
        "ExecuteTime": {
          "end_time": "2021-02-22T14:20:06.345146Z",
          "start_time": "2021-02-22T14:20:06.304Z"
        },
        "id": "oQgbcYV2zCX0"
      },
      "source": [
        "tf.constant([0.0]) / tf.constant([0.0])"
      ],
      "execution_count": null,
      "outputs": []
    },
    {
      "cell_type": "markdown",
      "metadata": {
        "id": "YcnIalmYzCX2"
      },
      "source": [
        "## Find the integer part of the following array using four different methods:"
      ]
    },
    {
      "cell_type": "code",
      "metadata": {
        "ExecuteTime": {
          "end_time": "2021-02-22T14:20:06.346024Z",
          "start_time": "2021-02-22T14:20:06.306Z"
        },
        "id": "xGjqeNf-zCX4"
      },
      "source": [
        "a = 10 * tf.random.uniform((10,), dtype = tf.float32)\n",
        "a"
      ],
      "execution_count": null,
      "outputs": []
    },
    {
      "cell_type": "code",
      "metadata": {
        "ExecuteTime": {
          "end_time": "2021-02-22T14:20:06.346869Z",
          "start_time": "2021-02-22T14:20:06.308Z"
        },
        "id": "jTI5BWoUzCX6"
      },
      "source": [
        ""
      ],
      "execution_count": null,
      "outputs": []
    },
    {
      "cell_type": "code",
      "metadata": {
        "ExecuteTime": {
          "end_time": "2021-02-22T14:20:06.453695Z",
          "start_time": "2021-02-22T14:20:06.448908Z"
        },
        "id": "DHbpIPvJzCX8"
      },
      "source": [
        ""
      ],
      "execution_count": null,
      "outputs": []
    },
    {
      "cell_type": "code",
      "metadata": {
        "ExecuteTime": {
          "end_time": "2021-02-22T14:20:06.459772Z",
          "start_time": "2021-02-22T14:20:06.455160Z"
        },
        "id": "lW8C0_RTzCX-"
      },
      "source": [
        ""
      ],
      "execution_count": null,
      "outputs": []
    },
    {
      "cell_type": "code",
      "metadata": {
        "ExecuteTime": {
          "end_time": "2021-02-22T14:20:06.465570Z",
          "start_time": "2021-02-22T14:20:06.461231Z"
        },
        "id": "6tKQz-OdzCYA"
      },
      "source": [
        ""
      ],
      "execution_count": null,
      "outputs": []
    },
    {
      "cell_type": "markdown",
      "metadata": {
        "id": "wCR6R94rzCYD"
      },
      "source": [
        "## Create a vector of 10 values from 0 to 1, both included"
      ]
    },
    {
      "cell_type": "code",
      "metadata": {
        "ExecuteTime": {
          "end_time": "2021-02-22T14:20:06.473564Z",
          "start_time": "2021-02-22T14:20:06.466941Z"
        },
        "id": "26HYaGsczCYD"
      },
      "source": [
        ""
      ],
      "execution_count": null,
      "outputs": []
    },
    {
      "cell_type": "markdown",
      "metadata": {
        "id": "MHw1Dq5QzCYF"
      },
      "source": [
        "## Create a vector of size 10 with values ranging from 0 to 1, both excluded"
      ]
    },
    {
      "cell_type": "code",
      "metadata": {
        "ExecuteTime": {
          "end_time": "2021-02-22T14:20:06.480648Z",
          "start_time": "2021-02-22T14:20:06.474882Z"
        },
        "id": "DWJVTJ7DzCYG"
      },
      "source": [
        ""
      ],
      "execution_count": null,
      "outputs": []
    },
    {
      "cell_type": "markdown",
      "metadata": {
        "id": "76FEjR_TzCYH"
      },
      "source": [
        "## Subtract the mean of each row of the following matrix"
      ]
    },
    {
      "cell_type": "code",
      "metadata": {
        "ExecuteTime": {
          "end_time": "2021-02-22T14:20:06.485993Z",
          "start_time": "2021-02-22T14:20:06.481909Z"
        },
        "id": "1d7JY5y6zCYI"
      },
      "source": [
        "m = tf.random.uniform((3, 3))\n",
        "m"
      ],
      "execution_count": null,
      "outputs": []
    },
    {
      "cell_type": "code",
      "metadata": {
        "ExecuteTime": {
          "end_time": "2021-02-22T14:20:06.491469Z",
          "start_time": "2021-02-22T14:20:06.487417Z"
        },
        "id": "t9aldiCQ51Hz"
      },
      "source": [
        ""
      ],
      "execution_count": null,
      "outputs": []
    },
    {
      "cell_type": "code",
      "metadata": {
        "ExecuteTime": {
          "end_time": "2021-02-22T14:20:06.498508Z",
          "start_time": "2021-02-22T14:20:06.492838Z"
        },
        "id": "uTsIb1GZzCYL"
      },
      "source": [
        ""
      ],
      "execution_count": null,
      "outputs": []
    },
    {
      "cell_type": "code",
      "metadata": {
        "ExecuteTime": {
          "end_time": "2021-02-22T14:20:06.503876Z",
          "start_time": "2021-02-22T14:20:06.499985Z"
        },
        "id": "ryRQVWqICpQK"
      },
      "source": [
        ""
      ],
      "execution_count": null,
      "outputs": []
    },
    {
      "cell_type": "code",
      "metadata": {
        "ExecuteTime": {
          "end_time": "2021-02-22T14:20:06.509411Z",
          "start_time": "2021-02-22T14:20:06.505180Z"
        },
        "id": "uxhdOaWFCu1M"
      },
      "source": [
        ""
      ],
      "execution_count": null,
      "outputs": []
    },
    {
      "cell_type": "code",
      "metadata": {
        "ExecuteTime": {
          "end_time": "2021-02-22T14:20:06.514703Z",
          "start_time": "2021-02-22T14:20:06.510871Z"
        },
        "id": "0CUXBGkEGBhC"
      },
      "source": [
        ""
      ],
      "execution_count": null,
      "outputs": []
    },
    {
      "cell_type": "markdown",
      "metadata": {
        "id": "f2w3ku_izCYO"
      },
      "source": [
        "## Add 1,000,000 numbers together using __`tensorflow`__ vectorized operations"
      ]
    },
    {
      "cell_type": "code",
      "metadata": {
        "ExecuteTime": {
          "end_time": "2021-02-22T14:20:19.168514Z",
          "start_time": "2021-02-22T14:20:06.516061Z"
        },
        "id": "yPaNUdD4zCYP"
      },
      "source": [
        ""
      ],
      "execution_count": null,
      "outputs": []
    },
    {
      "cell_type": "markdown",
      "metadata": {
        "id": "IclUTxlAzCYS"
      },
      "source": [
        "## Create a 4x4 array of the first 16 powers of 3"
      ]
    },
    {
      "cell_type": "code",
      "metadata": {
        "ExecuteTime": {
          "end_time": "2021-02-22T14:20:19.174991Z",
          "start_time": "2021-02-22T14:20:19.169918Z"
        },
        "id": "86JDG003zCYS"
      },
      "source": [
        ""
      ],
      "execution_count": null,
      "outputs": []
    },
    {
      "cell_type": "markdown",
      "metadata": {
        "id": "p-rS-F6wFcsk"
      },
      "source": [
        "Copyright 2021 CounterFactual.AI LLC. Licensed under the Apache License, Version 2.0 (the \"License\"); you may not use this file except in compliance with the License. You may obtain a copy of the License at http://www.apache.org/licenses/LICENSE-2.0 Unless required by applicable law or agreed to in writing, software distributed under the License is distributed on an \"AS IS\" BASIS, WITHOUT WARRANTIES OR CONDITIONS OF ANY KIND, either express or implied. See the License for the specific language governing permissions and limitations under the License."
      ]
    }
  ]
}